{
 "cells": [
  {
   "cell_type": "code",
   "execution_count": 2,
   "metadata": {},
   "outputs": [],
   "source": [
    "import torch\n",
    "from utils import HelicoDatasetClassification, HelicoDatasetPatientDiagnosis\n",
    "from model import HelicobacterClassifier    \n",
    "torch.manual_seed(42)\n",
    "from torch.utils.data import DataLoader\n",
    "import numpy as np\n",
    "import pandas as pd\n",
    "device = torch.device('cuda' if torch.cuda.is_available() else 'cpu')"
   ]
  },
  {
   "cell_type": "code",
   "execution_count": 3,
   "metadata": {},
   "outputs": [
    {
     "name": "stderr",
     "output_type": "stream",
     "text": [
      "C:\\Users\\Usuario\\AppData\\Local\\Temp\\ipykernel_11752\\1170566858.py:3: FutureWarning: You are using `torch.load` with `weights_only=False` (the current default value), which uses the default pickle module implicitly. It is possible to construct malicious pickle data which will execute arbitrary code during unpickling (See https://github.com/pytorch/pytorch/blob/main/SECURITY.md#untrusted-models for more details). In a future release, the default value for `weights_only` will be flipped to `True`. This limits the functions that could be executed during unpickling. Arbitrary objects will no longer be allowed to be loaded via this mode unless they are explicitly allowlisted by the user via `torch.serialization.add_safe_globals`. We recommend you start setting `weights_only=True` for any use case where you don't have full control of the loaded file. Please open an issue on GitHub for any issues related to this experimental feature.\n",
      "  model.load_state_dict(torch.load(r\"C:\\Users\\Usuario\\Documents\\GitHub\\MED-GIA\\Classfication\\models\\HelicobacterClassifier_fold\" + str(n) + \".pth\"))\n"
     ]
    },
    {
     "data": {
      "text/plain": [
       "'ensemble_predictions = []\\nloader_to_predict = DataLoader(dataset, batch_size=1, shuffle=False) \\nfor i, data in enumerate(loader_to_predict):\\n    img, label = data\\n    img = img.to(device)\\n    label = label.to(device)\\n    predicted = ensemble_predict(models, img)\\n    ensemble_predictions.append(predicted.cpu().numpy())\\nensemble_predictions = np.concatenate(ensemble_predictions)'"
      ]
     },
     "execution_count": 3,
     "metadata": {},
     "output_type": "execute_result"
    }
   ],
   "source": [
    "\n",
    "for n in range(5):\n",
    "    model = HelicobacterClassifier()\n",
    "    model.load_state_dict(torch.load(r\"C:\\Users\\Usuario\\Documents\\GitHub\\MED-GIA\\Classfication\\models\\HelicobacterClassifier_fold\" + str(n) + \".pth\"))\n",
    "    globals()[f'model_fold_{n}'] = model\n",
    "\n",
    "# Ensemble voting to predict new patches\n",
    "def ensemble_predict(models, img):\n",
    "    outputs = [torch.softmax(model(img), dim=1) for model in models] # Get probabilities [0.1,0.9]\n",
    "    outputs = torch.stack(outputs) # Stack probabilities [[0.1,0.9],[0.2,0.8]]\n",
    "    outputs = torch.mean(outputs, dim=0) # Average probabilities [0.15,0.85]\n",
    "    _, predicted = torch.max(outputs.data, 1) # Get the index of the max probability\n",
    "    return predicted\n",
    "\n",
    "# Load models into a list\n",
    "models = [globals()[f'model_fold_{n}'] for n in range(5)]\n",
    "\n",
    "#------------------------------------------------------------------------------\n",
    "\n",
    "# Predict using ensemble\n",
    "\"\"\"ensemble_predictions = []\n",
    "loader_to_predict = DataLoader(dataset, batch_size=1, shuffle=False) \n",
    "for i, data in enumerate(loader_to_predict):\n",
    "    img, label = data\n",
    "    img = img.to(device)\n",
    "    label = label.to(device)\n",
    "    predicted = ensemble_predict(models, img)\n",
    "    ensemble_predictions.append(predicted.cpu().numpy())\n",
    "ensemble_predictions = np.concatenate(ensemble_predictions)\"\"\""
   ]
  },
  {
   "cell_type": "code",
   "execution_count": 66,
   "metadata": {},
   "outputs": [
    {
     "name": "stdout",
     "output_type": "stream",
     "text": [
      "     CODI  DENSITAT\n",
      "0  B22-01     BAIXA\n",
      "1  B22-02     BAIXA\n",
      "2  B22-03  NEGATIVA\n",
      "3  B22-04  NEGATIVA\n",
      "4  B22-05  NEGATIVA\n",
      "    Pat_ID  Section_ID Window_ID      i      j    h    w  Presence\n",
      "0  B22-129           0       659   7477  11978  256  256        -1\n",
      "1   B22-68           0       131   6597  12009  256  256        -1\n",
      "2   B22-68           0       141   5100  10737  256  256        -1\n",
      "3   B22-68           0       290   5015  14908  256  256        -1\n",
      "4   B22-68           0       298  11626  13928  256  256        -1\n"
     ]
    }
   ],
   "source": [
    "import pandas as pd \n",
    "path_to_annotated = r'C:\\Users\\Usuario\\Documents\\GitHub\\MED-GIA\\data\\HelicoDataSet\\HP_WSI-CoordAnnotatedPatches.xlsx'\n",
    "path_to_Patient_Diagnois = r'C:\\Users\\Usuario\\Documents\\GitHub\\MED-GIA\\data\\HelicoDataSet\\PatientDiagnosis.csv'\n",
    "patient_diagnosisDF = pd.read_csv(path_to_Patient_Diagnois)\n",
    "annotated_patchesDF = pd.read_excel(path_to_annotated) \n",
    "\n",
    "print(patient_diagnosisDF.head())\n",
    "print(annotated_patchesDF.head())\n",
    "\n",
    "patient_diagnosisDF = patient_diagnosisDF[(patient_diagnosisDF['DENSITAT'] == 'ALTA') | (patient_diagnosisDF['DENSITAT'] == 'NEGATIVA')]\n",
    "annotated_patchesDF = annotated_patchesDF[annotated_patchesDF['Presence'] != 0]\n",
    "\n",
    "\n",
    "# Group by patient_id and count the number of positive and negative patches\n",
    "grouped = annotated_patchesDF.groupby(['Pat_ID'])\n",
    "grouped = annotated_patchesDF.groupby('Pat_ID').agg(\n",
    "    number_of_positive_patches=('Presence', lambda x: (x == 1).sum()),\n",
    "    number_of_negative_patches=('Presence', lambda x: (x == -1).sum())\n",
    ").reset_index()\n",
    "\n",
    "# Inlcude in gropued pateint_diagnosisDF['DENSITAT'] based on the id\n",
    "grouped.head()\n",
    "grouped = grouped.merge(patient_diagnosisDF, left_on='Pat_ID', right_on='CODI', how='inner')\n",
    "grouped.head()\n",
    "grouped = grouped.drop(columns=['CODI'])\n",
    "\n",
    "# OBJECTIVE  have a dataframe with the following columns: patient_id, number_of_positive_patches, number_of_negative_patches, diagnosis, prediction"
   ]
  },
  {
   "cell_type": "code",
   "execution_count": 72,
   "metadata": {},
   "outputs": [
    {
     "name": "stdout",
     "output_type": "stream",
     "text": [
      "        CODI  DENSITAT\n",
      "2     B22-03  NEGATIVA\n",
      "3     B22-04  NEGATIVA\n",
      "4     B22-05  NEGATIVA\n",
      "5     B22-06  NEGATIVA\n",
      "6     B22-07  NEGATIVA\n",
      "..       ...       ...\n",
      "304  B22-311      ALTA\n",
      "305  B22-312      ALTA\n",
      "306  B22-313      ALTA\n",
      "307  B22-314  NEGATIVA\n",
      "308  B22-315  NEGATIVA\n",
      "\n",
      "[237 rows x 2 columns]\n",
      "['NEGATIVA']\n"
     ]
    }
   ],
   "source": [
    "print(patient_diagnosisDF)\n",
    "\n",
    "densitat = patient_diagnosisDF [patient_diagnosisDF['CODI'] == \"B22-03\"]\n",
    "print(list(densitat['DENSITAT']))"
   ]
  },
  {
   "cell_type": "code",
   "execution_count": 63,
   "metadata": {},
   "outputs": [
    {
     "data": {
      "text/plain": [
       "['B22-01',\n",
       " 'B22-02',\n",
       " 'B22-03',\n",
       " 'B22-04',\n",
       " 'B22-05',\n",
       " 'B22-06',\n",
       " 'B22-07',\n",
       " 'B22-08',\n",
       " 'B22-09',\n",
       " 'B22-100',\n",
       " 'B22-105',\n",
       " 'B22-10',\n",
       " 'B22-11',\n",
       " 'B22-120',\n",
       " 'B22-128',\n",
       " 'B22-12',\n",
       " 'B22-130',\n",
       " 'B22-132',\n",
       " 'B22-134',\n",
       " 'B22-135',\n",
       " 'B22-136',\n",
       " 'B22-139',\n",
       " 'B22-13',\n",
       " 'B22-146',\n",
       " 'B22-14',\n",
       " 'B22-159',\n",
       " 'B22-15',\n",
       " 'B22-161',\n",
       " 'B22-169',\n",
       " 'B22-16',\n",
       " 'B22-17',\n",
       " 'B22-18',\n",
       " 'B22-196',\n",
       " 'B22-198',\n",
       " 'B22-199',\n",
       " 'B22-19',\n",
       " 'B22-201',\n",
       " 'B22-202',\n",
       " 'B22-203',\n",
       " 'B22-205',\n",
       " 'B22-206',\n",
       " 'B22-207',\n",
       " 'B22-208',\n",
       " 'B22-209',\n",
       " 'B22-20',\n",
       " 'B22-211',\n",
       " 'B22-212',\n",
       " 'B22-213',\n",
       " 'B22-215',\n",
       " 'B22-220',\n",
       " 'B22-222',\n",
       " 'B22-224',\n",
       " 'B22-225',\n",
       " 'B22-226',\n",
       " 'B22-227',\n",
       " 'B22-229',\n",
       " 'B22-231',\n",
       " 'B22-233',\n",
       " 'B22-236',\n",
       " 'B22-237',\n",
       " 'B22-238',\n",
       " 'B22-239',\n",
       " 'B22-242',\n",
       " 'B22-243',\n",
       " 'B22-246',\n",
       " 'B22-247',\n",
       " 'B22-252',\n",
       " 'B22-255',\n",
       " 'B22-257',\n",
       " 'B22-259',\n",
       " 'B22-261',\n",
       " 'B22-262',\n",
       " 'B22-263',\n",
       " 'B22-266',\n",
       " 'B22-267',\n",
       " 'B22-268',\n",
       " 'B22-269',\n",
       " 'B22-271',\n",
       " 'B22-272',\n",
       " 'B22-273',\n",
       " 'B22-281',\n",
       " 'B22-282',\n",
       " 'B22-283',\n",
       " 'B22-285',\n",
       " 'B22-286',\n",
       " 'B22-293',\n",
       " 'B22-294',\n",
       " 'B22-295',\n",
       " 'B22-309',\n",
       " 'B22-310',\n",
       " 'B22-314',\n",
       " 'B22-315',\n",
       " 'B22-31',\n",
       " 'B22-32',\n",
       " 'B22-36',\n",
       " 'B22-39',\n",
       " 'B22-41',\n",
       " 'B22-44',\n",
       " 'B22-48',\n",
       " 'B22-49',\n",
       " 'B22-58',\n",
       " 'B22-62',\n",
       " 'B22-65',\n",
       " 'B22-66',\n",
       " 'B22-69',\n",
       " 'B22-72',\n",
       " 'B22-73',\n",
       " 'B22-75',\n",
       " 'B22-78',\n",
       " 'B22-79',\n",
       " 'B22-81',\n",
       " 'B22-82',\n",
       " 'B22-85',\n",
       " 'B22-88',\n",
       " 'B22-89',\n",
       " 'B22-96']"
      ]
     },
     "execution_count": 63,
     "metadata": {},
     "output_type": "execute_result"
    }
   ],
   "source": [
    "import pathlib \n",
    "grouped\n",
    "\n",
    "\n",
    "# Create a pathlib object to store the results\n",
    "\n",
    "path_to_holdout =  r\"C:/Users/Usuario/Documents/GitHub/MED-GIA/data/HelicoDataSet/HoldOut\"\n",
    "# iterate over the directories in holdout  and include the name of the directory in a list\n",
    "holdout_directories = [x for x in pathlib.Path(path_to_holdout).iterdir() if x.is_dir()]\n",
    "\n",
    "# Extract the name of the directories without the full path\n",
    "holdout_directories = [x.name[:-2] for x in holdout_directories]\n",
    "\n",
    "holdout_directories"
   ]
  },
  {
   "cell_type": "code",
   "execution_count": 5,
   "metadata": {},
   "outputs": [],
   "source": [
    "from PIL import Image\n",
    "import pathlib\n",
    "import pandas as pd\n",
    "import torchvision\n",
    "import numpy as np\n",
    "\n",
    "\n",
    "def transform_image(image, size):\n",
    "    return image.resize(size)\n",
    "\n",
    "class HoldoutDataset():\n",
    "    def __init__(self):\n",
    "        path_to_holdout = r\"C:/Users/Usuario/Documents/GitHub/MED-GIA/data/HelicoDataSet/HoldOut\"\n",
    "        patient_directories = [patient for patient in pathlib.Path(path_to_holdout).iterdir()]\n",
    "        path_to_Patient_Diagnois = r'C:\\Users\\Usuario\\Documents\\GitHub\\MED-GIA\\data\\HelicoDataSet\\PatientDiagnosis.csv'\n",
    "        patient_diagnosisDF = pd.read_csv(path_to_Patient_Diagnois)\n",
    "        patient_diagnosisDF = patient_diagnosisDF[(patient_diagnosisDF['DENSITAT'] == 'ALTA') | (patient_diagnosisDF['DENSITAT'] == 'NEGATIVA')]\n",
    "        patient_diagnosisDF['DENSITAT'] = [1 if x == 'ALTA' else -1 for x in patient_diagnosisDF['DENSITAT']]\n",
    "        patient_diagnosisDF = patient_diagnosisDF.rename(columns={'DENSITAT': 'DiagnosisGT'})\n",
    "        \n",
    "        self.dictionary = {}\n",
    "        \n",
    "        for patient in patient_directories:\n",
    "            if patient.name[:-2] in patient_diagnosisDF['CODI'].values:\n",
    "                images = [x for x in patient.iterdir() if x.is_file() and x.name.endswith('.png')]\n",
    "                self.dictionary[patient.name[:-2]] = (images, patient_diagnosisDF[patient_diagnosisDF['CODI'] == patient.name[:-2]]['DiagnosisGT'].values)\n",
    "        \n",
    "    def __len__(self):\n",
    "        return len(self.dictionary)\n",
    "    \n",
    "    def __getitem__(self, idx):\n",
    "        patient_id = list(self.dictionary.keys())[idx]\n",
    "        images, patient_diagnosis = self.dictionary[patient_id]\n",
    "        transformed_images = [transform_image(Image.open(image_path).convert(\"RGB\"), (256, 256)) for image_path in images]\n",
    "        return transformed_images, patient_id, patient_diagnosis\n",
    "\n",
    "\n",
    "holdout_dataset = HoldoutDataset() "
   ]
  },
  {
   "cell_type": "code",
   "execution_count": 34,
   "metadata": {},
   "outputs": [
    {
     "name": "stderr",
     "output_type": "stream",
     "text": [
      "Processing patients:   0%|          | 0/82 [00:00<?, ?it/s]"
     ]
    },
    {
     "name": "stderr",
     "output_type": "stream",
     "text": [
      "Processing patients: 100%|██████████| 82/82 [22:10<00:00, 16.22s/it]\n"
     ]
    },
    {
     "name": "stdout",
     "output_type": "stream",
     "text": [
      "Confusion Matrix:\n",
      "[[57  1]\n",
      " [15  9]]\n"
     ]
    },
    {
     "data": {
      "image/png": "[encoded data removed]",
      "text/plain": [
       "<Figure size 1000x700 with 2 Axes>"
      ]
     },
     "metadata": {},
     "output_type": "display_data"
    }
   ],
   "source": [
    "import matplotlib.pyplot as plt\n",
    "from sklearn.metrics import confusion_matrix\n",
    "import seaborn as sns\n",
    "from torch.utils.data import DataLoader\n",
    "from tqdm import tqdm\n",
    "\n",
    "\n",
    "for n in range(5):\n",
    "    model = HelicobacterClassifier()\n",
    "    model.load_state_dict(torch.load(r\"C:\\Users\\Usuario\\Documents\\GitHub\\MED-GIA\\Classfication\\models\\HelicobacterClassifier_fold\" + str(n) + \".pth\"))\n",
    "    globals()[f'model_fold_{n}'] = model\n",
    "\n",
    "# Ensemble voting to predict new patches\n",
    "def ensemble_predict(models, img):\n",
    "    outputs = [torch.softmax(model(img), dim=1) for model in models] # Get probabilities [0.1,0.9]\n",
    "    outputs = torch.stack(outputs) # Stack probabilities [[0.1,0.9],[0.2,0.8]]\n",
    "    outputs = torch.mean(outputs, dim=0) # Average probabilities [0.15,0.85]\n",
    "    _, predicted = torch.max(outputs.data, 1) # Get the index of the max probability\n",
    "    return predicted\n",
    "\n",
    "# Load models into a list\n",
    "models = [globals()[f'model_fold_{n}'] for n in range(5)]\n",
    "\n",
    "# Move models to the same device as the input tensor\n",
    "models = [model.to(device) for model in models]\n",
    "\n",
    "#--------------------------------------------------------------\n",
    "\n",
    "# Create a DataLoader for the holdout dataset\n",
    "holdout_loader = DataLoader(holdout_dataset, batch_size=1, shuffle=False, collate_fn=lambda x: x)\n",
    "\n",
    "# Predict diagnosis for each patient using ensemble\n",
    "predictions = []\n",
    "ground_truth = []\n",
    "\n",
    "for data in tqdm(holdout_loader, desc=\"Processing patients\"):\n",
    "    data = data[0]  # Remove batch dimension\n",
    "    images, patient_id, patient_diagnosis = data\n",
    "    images = torch.stack([torchvision.transforms.ToTensor()(image) for image in images])\n",
    "    images = images.to(device)\n",
    "    \n",
    "    # Predict for each image\n",
    "    positive_patch_found = False\n",
    "    for img in images:\n",
    "        img = img.unsqueeze(0)  # Add batch dimension\n",
    "        predicted = ensemble_predict(models, img)\n",
    "        if predicted.item() == 1:  # If any patch is positive\n",
    "            positive_patch_found = True\n",
    "            break\n",
    "    \n",
    "    # If a positive patch is found, the diagnosis is positive (1), otherwise negative (-1)\n",
    "    final_prediction = 1 if positive_patch_found else -1\n",
    "    predictions.append(final_prediction)\n",
    "    ground_truth.append(patient_diagnosis[0].item())\n",
    "\n",
    "# Compute confusion matrix\n",
    "conf_matrix = confusion_matrix(ground_truth, predictions)\n",
    "print(\"Confusion Matrix:\")\n",
    "print(conf_matrix)\n",
    "\n",
    "# Plot confusion matrix\n",
    "plt.figure(figsize=(10, 7))\n",
    "sns.heatmap(conf_matrix, annot=True, fmt='d', cmap='Blues')\n",
    "plt.title('Confusion Matrix')\n",
    "plt.xlabel('Predicted label')\n",
    "plt.ylabel('True label')\n",
    "plt.show()\n"
   ]
  },
  {
   "cell_type": "code",
   "execution_count": 35,
   "metadata": {},
   "outputs": [
    {
     "name": "stdout",
     "output_type": "stream",
     "text": [
      "Classification Report:\n",
      "              precision    recall  f1-score   support\n",
      "\n",
      "    Negative       0.79      0.98      0.88        58\n",
      "    Positive       0.90      0.38      0.53        24\n",
      "\n",
      "    accuracy                           0.80        82\n",
      "   macro avg       0.85      0.68      0.70        82\n",
      "weighted avg       0.82      0.80      0.78        82\n",
      "\n"
     ]
    }
   ],
   "source": [
    "from sklearn.metrics import classification_report\n",
    "\n",
    "# Compute classification report\n",
    "class_report = classification_report(ground_truth, predictions, target_names=['Negative', 'Positive'])\n",
    "print(\"Classification Report:\")\n",
    "print(class_report)"
   ]
  },
  {
   "cell_type": "markdown",
   "metadata": {},
   "source": [
    "Try using the most confidence one. "
   ]
  },
  {
   "cell_type": "code",
   "execution_count": 6,
   "metadata": {},
   "outputs": [
    {
     "name": "stderr",
     "output_type": "stream",
     "text": [
      "Processing patients: 100%|██████████| 82/82 [21:49<00:00, 15.97s/it]\n"
     ]
    },
    {
     "name": "stdout",
     "output_type": "stream",
     "text": [
      "Confusion Matrix:\n",
      "[[57  1]\n",
      " [14 10]]\n"
     ]
    },
    {
     "data": {
      "image/png": "[encoded data removed]",
      "text/plain": [
       "<Figure size 1000x700 with 2 Axes>"
      ]
     },
     "metadata": {},
     "output_type": "display_data"
    }
   ],
   "source": [
    "import matplotlib.pyplot as plt\n",
    "from sklearn.metrics import confusion_matrix\n",
    "import seaborn as sns\n",
    "from torch.utils.data import DataLoader\n",
    "from tqdm import tqdm\n",
    "\n",
    "# Ensemble voting to predict new patches\n",
    "def ensemble_predict(models, img):\n",
    "    outputs = [torch.softmax(model(img), dim=1) for model in models]  # Get probabilities [0.1,0.9]\n",
    "    max_confidences = [torch.max(output).item() for output in outputs]  # Get max confidence for each model\n",
    "    best_model_index = max_confidences.index(max(max_confidences))  # Find the index of the model with the highest confidence\n",
    "    _, predicted = torch.max(outputs[best_model_index].data, 1)  # Get the prediction of the best model\n",
    "    return predicted\n",
    "\n",
    "# Load models into a list\n",
    "models = [globals()[f'model_fold_{n}'] for n in range(5)]\n",
    "\n",
    "# Move models to the same device as the input tensor\n",
    "models = [model.to(device) for model in models]\n",
    "\n",
    "#--------------------------------------------------------------\n",
    "\n",
    "# Create a DataLoader for the holdout dataset\n",
    "holdout_loader = DataLoader(holdout_dataset, batch_size=1, shuffle=False, collate_fn=lambda x: x)\n",
    "\n",
    "# Predict diagnosis for each patient using ensemble\n",
    "predictions = []\n",
    "ground_truth = []\n",
    "\n",
    "for data in tqdm(holdout_loader, desc=\"Processing patients\"):\n",
    "    data = data[0]  # Remove batch dimension\n",
    "    images, patient_id, patient_diagnosis = data\n",
    "    images = torch.stack([torchvision.transforms.ToTensor()(image) for image in images])\n",
    "    images = images.to(device)\n",
    "    \n",
    "    # Predict for each image\n",
    "    positive_patch_found = False\n",
    "    for img in images:\n",
    "        img = img.unsqueeze(0)  # Add batch dimension\n",
    "        predicted = ensemble_predict(models, img)\n",
    "        if predicted.item() == 1:  # If any patch is positive\n",
    "            positive_patch_found = True\n",
    "            break\n",
    "    \n",
    "    # If a positive patch is found, the diagnosis is positive (1), otherwise negative (-1)\n",
    "    final_prediction = 1 if positive_patch_found else -1\n",
    "    predictions.append(final_prediction)\n",
    "    ground_truth.append(patient_diagnosis[0].item())\n",
    "\n",
    "# Compute confusion matrix\n",
    "conf_matrix = confusion_matrix(ground_truth, predictions)\n",
    "print(\"Confusion Matrix:\")\n",
    "print(conf_matrix)\n",
    "\n",
    "# Plot confusion matrix\n",
    "plt.figure(figsize=(10, 7))\n",
    "sns.heatmap(conf_matrix, annot=True, fmt='d', cmap='Blues')\n",
    "plt.title('Confusion Matrix')\n",
    "plt.xlabel('Predicted label')\n",
    "plt.ylabel('True label')\n",
    "plt.show()\n"
   ]
  },
  {
   "cell_type": "code",
   "execution_count": 7,
   "metadata": {},
   "outputs": [
    {
     "name": "stdout",
     "output_type": "stream",
     "text": [
      "Classification Report:\n",
      "              precision    recall  f1-score   support\n",
      "\n",
      "    Negative       0.80      0.98      0.88        58\n",
      "    Positive       0.91      0.42      0.57        24\n",
      "\n",
      "    accuracy                           0.82        82\n",
      "   macro avg       0.86      0.70      0.73        82\n",
      "weighted avg       0.83      0.82      0.79        82\n",
      "\n"
     ]
    }
   ],
   "source": [
    "from sklearn.metrics import classification_report\n",
    "\n",
    "# Compute classification report\n",
    "class_report = classification_report(ground_truth, predictions, target_names=['Negative', 'Positive'])\n",
    "print(\"Classification Report:\")\n",
    "print(class_report)"
   ]
  },
  {
   "cell_type": "markdown",
   "metadata": {},
   "source": [
    "Try using the pondered sum. \n"
   ]
  },
  {
   "cell_type": "code",
   "execution_count": 8,
   "metadata": {},
   "outputs": [
    {
     "name": "stderr",
     "output_type": "stream",
     "text": [
      "Processing patients: 100%|██████████| 82/82 [19:27<00:00, 14.23s/it]\n"
     ]
    },
    {
     "name": "stdout",
     "output_type": "stream",
     "text": [
      "Confusion Matrix:\n",
      "[[57  1]\n",
      " [15  9]]\n"
     ]
    },
    {
     "data": {
      "image/png": "[encoded data removed]",
      "text/plain": [
       "<Figure size 1000x700 with 2 Axes>"
      ]
     },
     "metadata": {},
     "output_type": "display_data"
    }
   ],
   "source": [
    "import matplotlib.pyplot as plt\n",
    "from sklearn.metrics import confusion_matrix\n",
    "import seaborn as sns\n",
    "from torch.utils.data import DataLoader\n",
    "from tqdm import tqdm\n",
    "\n",
    "# Ensemble voting to predict new patches\n",
    "def ensemble_predict(models, img):\n",
    "    outputs = [torch.softmax(model(img), dim=1) for model in models]  # Get probabilities [0.1,0.9]\n",
    "    confidences = [torch.max(output).item() for output in outputs]  # Get max confidence for each model\n",
    "    weighted_outputs = [output * confidence for output, confidence in zip(outputs, confidences)]  # Weight outputs by confidence\n",
    "    summed_outputs = torch.sum(torch.stack(weighted_outputs), dim=0)  # Sum weighted outputs\n",
    "    _, predicted = torch.max(summed_outputs.data, 1)  # Get the prediction with the highest weighted sum\n",
    "    return predicted\n",
    "\n",
    "# Load models into a list\n",
    "models = [globals()[f'model_fold_{n}'] for n in range(5)]\n",
    "\n",
    "# Move models to the same device as the input tensor\n",
    "models = [model.to(device) for model in models]\n",
    "\n",
    "#--------------------------------------------------------------\n",
    "\n",
    "# Create a DataLoader for the holdout dataset\n",
    "holdout_loader = DataLoader(holdout_dataset, batch_size=1, shuffle=False, collate_fn=lambda x: x)\n",
    "\n",
    "# Predict diagnosis for each patient using ensemble\n",
    "predictions = []\n",
    "ground_truth = []\n",
    "\n",
    "for data in tqdm(holdout_loader, desc=\"Processing patients\"):\n",
    "    data = data[0]  # Remove batch dimension\n",
    "    images, patient_id, patient_diagnosis = data\n",
    "    images = torch.stack([torchvision.transforms.ToTensor()(image) for image in images])\n",
    "    images = images.to(device)\n",
    "    \n",
    "    # Predict for each image\n",
    "    positive_patch_found = False\n",
    "    for img in images:\n",
    "        img = img.unsqueeze(0)  # Add batch dimension\n",
    "        predicted = ensemble_predict(models, img)\n",
    "        if predicted.item() == 1:  # If any patch is positive\n",
    "            positive_patch_found = True\n",
    "            break\n",
    "    \n",
    "    # If a positive patch is found, the diagnosis is positive (1), otherwise negative (-1)\n",
    "    final_prediction = 1 if positive_patch_found else -1\n",
    "    predictions.append(final_prediction)\n",
    "    ground_truth.append(patient_diagnosis[0].item())\n",
    "\n",
    "# Compute confusion matrix\n",
    "conf_matrix = confusion_matrix(ground_truth, predictions)\n",
    "print(\"Confusion Matrix:\")\n",
    "print(conf_matrix)\n",
    "\n",
    "# Plot confusion matrix\n",
    "plt.figure(figsize=(10, 7))\n",
    "sns.heatmap(conf_matrix, annot=True, fmt='d', cmap='Blues')\n",
    "plt.title('Confusion Matrix')\n",
    "plt.xlabel('Predicted label')\n",
    "plt.ylabel('True label')\n",
    "plt.show()\n"
   ]
  },
  {
   "cell_type": "code",
   "execution_count": 9,
   "metadata": {},
   "outputs": [
    {
     "name": "stdout",
     "output_type": "stream",
     "text": [
      "Classification Report:\n",
      "              precision    recall  f1-score   support\n",
      "\n",
      "    Negative       0.79      0.98      0.88        58\n",
      "    Positive       0.90      0.38      0.53        24\n",
      "\n",
      "    accuracy                           0.80        82\n",
      "   macro avg       0.85      0.68      0.70        82\n",
      "weighted avg       0.82      0.80      0.78        82\n",
      "\n"
     ]
    }
   ],
   "source": [
    "from sklearn.metrics import classification_report\n",
    "\n",
    "# Compute classification report\n",
    "class_report = classification_report(ground_truth, predictions, target_names=['Negative', 'Positive'])\n",
    "print(\"Classification Report:\")\n",
    "print(class_report)"
   ]
  }
 ],
 "metadata": {
  "kernelspec": {
   "display_name": "yolo",
   "language": "python",
   "name": "python3"
  },
  "language_info": {
   "codemirror_mode": {
    "name": "ipython",
    "version": 3
   },
   "file_extension": ".py",
   "mimetype": "text/x-python",
   "name": "python",
   "nbconvert_exporter": "python",
   "pygments_lexer": "ipython3",
   "version": "3.10.15"
  }
 },
 "nbformat": 4,
 "nbformat_minor": 2
}
